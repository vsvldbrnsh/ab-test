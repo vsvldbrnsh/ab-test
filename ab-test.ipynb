{
 "cells": [
  {
   "cell_type": "code",
   "execution_count": 1,
   "metadata": {},
   "outputs": [],
   "source": [
    "import pandas as pd\n",
    "import numpy as np\n",
    "from utils.funcs import stdP,seP,calcConvRate,checkByZtest,runLinePlotByCats"
   ]
  },
  {
   "cell_type": "markdown",
   "metadata": {},
   "source": [
    "### Задача:\n",
    "\n",
    "- 1.Выбрать релевантный тест и определить есть ли статистически значимая разница между:\n",
    "   - 1.1 уровнем попыток покупки (`transaction_try`)\n",
    "   - 1.2 уровнем успешных покупок (`transaction_success`)\n",
    "- 2.Проверить эффект в разрезе операционных систем:\n",
    "    - 2.2 os == `android`\n",
    "    - 2.1 os == `ios`\n",
    "    \n",
    "- 3.Проверить устойчивость эффекта во времени.\n",
    "- 4.Подвести итоги (сформулировать выводы)"
   ]
  },
  {
   "cell_type": "markdown",
   "metadata": {},
   "source": [
    "### считываем датасет и смотрим на структуру данных"
   ]
  },
  {
   "cell_type": "code",
   "execution_count": 2,
   "metadata": {},
   "outputs": [],
   "source": [
    "df = pd.read_csv('./data/experiment_raw.csv')"
   ]
  },
  {
   "cell_type": "code",
   "execution_count": 3,
   "metadata": {},
   "outputs": [
    {
     "data": {
      "text/plain": [
       "(27954, 7)"
      ]
     },
     "execution_count": 3,
     "metadata": {},
     "output_type": "execute_result"
    }
   ],
   "source": [
    "df.shape"
   ]
  },
  {
   "cell_type": "code",
   "execution_count": 4,
   "metadata": {},
   "outputs": [
    {
     "name": "stdout",
     "output_type": "stream",
     "text": [
      "<class 'pandas.core.frame.DataFrame'>\n",
      "RangeIndex: 27954 entries, 0 to 27953\n",
      "Data columns (total 7 columns):\n",
      " #   Column                            Non-Null Count  Dtype \n",
      "---  ------                            --------------  ----- \n",
      " 0   id                                27954 non-null  int64 \n",
      " 1   date                              27954 non-null  object\n",
      " 2   country                           27954 non-null  object\n",
      " 3   os                                27950 non-null  object\n",
      " 4   experiment_mobile_checkout_theme  27954 non-null  object\n",
      " 5   transaction_try                   27954 non-null  int64 \n",
      " 6   transaction_success               27954 non-null  int64 \n",
      "dtypes: int64(3), object(4)\n",
      "memory usage: 1.5+ MB\n"
     ]
    }
   ],
   "source": [
    "df.info()"
   ]
  },
  {
   "cell_type": "markdown",
   "metadata": {},
   "source": [
    "#### в датасете всего 27 593 записей, что достаточно мало, поэтому мы не будем делать выборку из генеральной совокупности."
   ]
  },
  {
   "cell_type": "code",
   "execution_count": 5,
   "metadata": {},
   "outputs": [
    {
     "name": "stdout",
     "output_type": "stream",
     "text": [
      "col:id has 25743 unique values\n",
      "col:date has 24 unique values\n",
      "col:country has 1 unique values\n",
      "col:os has 2 unique values\n",
      "col:experiment_mobile_checkout_theme has 2 unique values\n",
      "col:transaction_try has 2 unique values\n",
      "col:transaction_success has 2 unique values\n"
     ]
    }
   ],
   "source": [
    "for col in df.columns:\n",
    "    print(f'col:{col} has {df[col].nunique()} unique values')"
   ]
  },
  {
   "cell_type": "markdown",
   "metadata": {},
   "source": [
    "#### проверим датасет на пропуски в данных"
   ]
  },
  {
   "cell_type": "code",
   "execution_count": 6,
   "metadata": {},
   "outputs": [
    {
     "data": {
      "text/plain": [
       "id                                  0\n",
       "date                                0\n",
       "country                             0\n",
       "os                                  4\n",
       "experiment_mobile_checkout_theme    0\n",
       "transaction_try                     0\n",
       "transaction_success                 0\n",
       "dtype: int64"
      ]
     },
     "execution_count": 6,
     "metadata": {},
     "output_type": "execute_result"
    }
   ],
   "source": [
    "df.isnull().sum(axis = 0)"
   ]
  },
  {
   "cell_type": "markdown",
   "metadata": {},
   "source": [
    "#### есть всего 4 строки в которых тип ОС - пропуск. удалим эти записи"
   ]
  },
  {
   "cell_type": "code",
   "execution_count": 7,
   "metadata": {},
   "outputs": [],
   "source": [
    "indexes_to_drop = df[df.os.isnull()].index.tolist()\n",
    "df.drop(indexes_to_drop,inplace=True)"
   ]
  },
  {
   "cell_type": "code",
   "execution_count": 8,
   "metadata": {},
   "outputs": [
    {
     "data": {
      "text/plain": [
       "id                                  0\n",
       "date                                0\n",
       "country                             0\n",
       "os                                  0\n",
       "experiment_mobile_checkout_theme    0\n",
       "transaction_try                     0\n",
       "transaction_success                 0\n",
       "dtype: int64"
      ]
     },
     "execution_count": 8,
     "metadata": {},
     "output_type": "execute_result"
    }
   ],
   "source": [
    "df.isnull().sum(axis = 0)"
   ]
  },
  {
   "cell_type": "code",
   "execution_count": 9,
   "metadata": {},
   "outputs": [
    {
     "data": {
      "text/plain": [
       "(27950, 7)"
      ]
     },
     "execution_count": 9,
     "metadata": {},
     "output_type": "execute_result"
    }
   ],
   "source": [
    "df.shape"
   ]
  },
  {
   "cell_type": "markdown",
   "metadata": {},
   "source": [
    "#### Проверим поле \"id\" на уникальность"
   ]
  },
  {
   "cell_type": "code",
   "execution_count": 10,
   "metadata": {},
   "outputs": [
    {
     "data": {
      "text/html": [
       "<div>\n",
       "<style scoped>\n",
       "    .dataframe tbody tr th:only-of-type {\n",
       "        vertical-align: middle;\n",
       "    }\n",
       "\n",
       "    .dataframe tbody tr th {\n",
       "        vertical-align: top;\n",
       "    }\n",
       "\n",
       "    .dataframe thead th {\n",
       "        text-align: right;\n",
       "    }\n",
       "</style>\n",
       "<table border=\"1\" class=\"dataframe\">\n",
       "  <thead>\n",
       "    <tr style=\"text-align: right;\">\n",
       "      <th></th>\n",
       "      <th>id</th>\n",
       "      <th>date</th>\n",
       "      <th>country</th>\n",
       "      <th>os</th>\n",
       "      <th>experiment_mobile_checkout_theme</th>\n",
       "      <th>transaction_try</th>\n",
       "      <th>transaction_success</th>\n",
       "    </tr>\n",
       "  </thead>\n",
       "  <tbody>\n",
       "    <tr>\n",
       "      <th>20326</th>\n",
       "      <td>10171475</td>\n",
       "      <td>2020-04-28</td>\n",
       "      <td>USA</td>\n",
       "      <td>ios</td>\n",
       "      <td>mobile_checkout_theme_new</td>\n",
       "      <td>1</td>\n",
       "      <td>0</td>\n",
       "    </tr>\n",
       "    <tr>\n",
       "      <th>20327</th>\n",
       "      <td>10171475</td>\n",
       "      <td>2020-04-28</td>\n",
       "      <td>USA</td>\n",
       "      <td>ios</td>\n",
       "      <td>mobile_checkout_theme_new</td>\n",
       "      <td>1</td>\n",
       "      <td>0</td>\n",
       "    </tr>\n",
       "    <tr>\n",
       "      <th>20328</th>\n",
       "      <td>10171475</td>\n",
       "      <td>2020-04-28</td>\n",
       "      <td>USA</td>\n",
       "      <td>ios</td>\n",
       "      <td>mobile_checkout_theme_new</td>\n",
       "      <td>1</td>\n",
       "      <td>0</td>\n",
       "    </tr>\n",
       "    <tr>\n",
       "      <th>20331</th>\n",
       "      <td>10171611</td>\n",
       "      <td>2020-04-28</td>\n",
       "      <td>USA</td>\n",
       "      <td>android</td>\n",
       "      <td>mobile_checkout_theme_old</td>\n",
       "      <td>1</td>\n",
       "      <td>0</td>\n",
       "    </tr>\n",
       "    <tr>\n",
       "      <th>20332</th>\n",
       "      <td>10171611</td>\n",
       "      <td>2020-04-28</td>\n",
       "      <td>USA</td>\n",
       "      <td>android</td>\n",
       "      <td>mobile_checkout_theme_old</td>\n",
       "      <td>1</td>\n",
       "      <td>0</td>\n",
       "    </tr>\n",
       "    <tr>\n",
       "      <th>20333</th>\n",
       "      <td>10171611</td>\n",
       "      <td>2020-04-28</td>\n",
       "      <td>USA</td>\n",
       "      <td>android</td>\n",
       "      <td>mobile_checkout_theme_old</td>\n",
       "      <td>1</td>\n",
       "      <td>0</td>\n",
       "    </tr>\n",
       "    <tr>\n",
       "      <th>20352</th>\n",
       "      <td>10188493</td>\n",
       "      <td>2020-04-29</td>\n",
       "      <td>USA</td>\n",
       "      <td>android</td>\n",
       "      <td>mobile_checkout_theme_old</td>\n",
       "      <td>1</td>\n",
       "      <td>0</td>\n",
       "    </tr>\n",
       "    <tr>\n",
       "      <th>20350</th>\n",
       "      <td>10188493</td>\n",
       "      <td>2020-04-29</td>\n",
       "      <td>USA</td>\n",
       "      <td>android</td>\n",
       "      <td>mobile_checkout_theme_old</td>\n",
       "      <td>1</td>\n",
       "      <td>0</td>\n",
       "    </tr>\n",
       "    <tr>\n",
       "      <th>20351</th>\n",
       "      <td>10188493</td>\n",
       "      <td>2020-04-29</td>\n",
       "      <td>USA</td>\n",
       "      <td>android</td>\n",
       "      <td>mobile_checkout_theme_old</td>\n",
       "      <td>1</td>\n",
       "      <td>0</td>\n",
       "    </tr>\n",
       "    <tr>\n",
       "      <th>20357</th>\n",
       "      <td>10188762</td>\n",
       "      <td>2020-04-29</td>\n",
       "      <td>USA</td>\n",
       "      <td>ios</td>\n",
       "      <td>mobile_checkout_theme_old</td>\n",
       "      <td>1</td>\n",
       "      <td>0</td>\n",
       "    </tr>\n",
       "    <tr>\n",
       "      <th>20358</th>\n",
       "      <td>10188762</td>\n",
       "      <td>2020-04-29</td>\n",
       "      <td>USA</td>\n",
       "      <td>ios</td>\n",
       "      <td>mobile_checkout_theme_old</td>\n",
       "      <td>1</td>\n",
       "      <td>0</td>\n",
       "    </tr>\n",
       "    <tr>\n",
       "      <th>20367</th>\n",
       "      <td>10189422</td>\n",
       "      <td>2020-04-29</td>\n",
       "      <td>USA</td>\n",
       "      <td>ios</td>\n",
       "      <td>mobile_checkout_theme_new</td>\n",
       "      <td>1</td>\n",
       "      <td>0</td>\n",
       "    </tr>\n",
       "    <tr>\n",
       "      <th>20368</th>\n",
       "      <td>10189422</td>\n",
       "      <td>2020-04-29</td>\n",
       "      <td>USA</td>\n",
       "      <td>ios</td>\n",
       "      <td>mobile_checkout_theme_new</td>\n",
       "      <td>1</td>\n",
       "      <td>0</td>\n",
       "    </tr>\n",
       "    <tr>\n",
       "      <th>20369</th>\n",
       "      <td>10189422</td>\n",
       "      <td>2020-04-29</td>\n",
       "      <td>USA</td>\n",
       "      <td>ios</td>\n",
       "      <td>mobile_checkout_theme_new</td>\n",
       "      <td>1</td>\n",
       "      <td>0</td>\n",
       "    </tr>\n",
       "    <tr>\n",
       "      <th>20374</th>\n",
       "      <td>10189701</td>\n",
       "      <td>2020-04-29</td>\n",
       "      <td>USA</td>\n",
       "      <td>android</td>\n",
       "      <td>mobile_checkout_theme_new</td>\n",
       "      <td>1</td>\n",
       "      <td>0</td>\n",
       "    </tr>\n",
       "  </tbody>\n",
       "</table>\n",
       "</div>"
      ],
      "text/plain": [
       "             id        date country       os experiment_mobile_checkout_theme  \\\n",
       "20326  10171475  2020-04-28     USA      ios        mobile_checkout_theme_new   \n",
       "20327  10171475  2020-04-28     USA      ios        mobile_checkout_theme_new   \n",
       "20328  10171475  2020-04-28     USA      ios        mobile_checkout_theme_new   \n",
       "20331  10171611  2020-04-28     USA  android        mobile_checkout_theme_old   \n",
       "20332  10171611  2020-04-28     USA  android        mobile_checkout_theme_old   \n",
       "20333  10171611  2020-04-28     USA  android        mobile_checkout_theme_old   \n",
       "20352  10188493  2020-04-29     USA  android        mobile_checkout_theme_old   \n",
       "20350  10188493  2020-04-29     USA  android        mobile_checkout_theme_old   \n",
       "20351  10188493  2020-04-29     USA  android        mobile_checkout_theme_old   \n",
       "20357  10188762  2020-04-29     USA      ios        mobile_checkout_theme_old   \n",
       "20358  10188762  2020-04-29     USA      ios        mobile_checkout_theme_old   \n",
       "20367  10189422  2020-04-29     USA      ios        mobile_checkout_theme_new   \n",
       "20368  10189422  2020-04-29     USA      ios        mobile_checkout_theme_new   \n",
       "20369  10189422  2020-04-29     USA      ios        mobile_checkout_theme_new   \n",
       "20374  10189701  2020-04-29     USA  android        mobile_checkout_theme_new   \n",
       "\n",
       "       transaction_try  transaction_success  \n",
       "20326                1                    0  \n",
       "20327                1                    0  \n",
       "20328                1                    0  \n",
       "20331                1                    0  \n",
       "20332                1                    0  \n",
       "20333                1                    0  \n",
       "20352                1                    0  \n",
       "20350                1                    0  \n",
       "20351                1                    0  \n",
       "20357                1                    0  \n",
       "20358                1                    0  \n",
       "20367                1                    0  \n",
       "20368                1                    0  \n",
       "20369                1                    0  \n",
       "20374                1                    0  "
      ]
     },
     "execution_count": 10,
     "metadata": {},
     "output_type": "execute_result"
    }
   ],
   "source": [
    "df[df.id.duplicated(keep=False)].sort_values('id').head(15)"
   ]
  },
  {
   "cell_type": "markdown",
   "metadata": {},
   "source": [
    "#### Есть задвоения по полю id. \n",
    "\n",
    "#### Отсюда можно предположить, что это или баг или фича. Вполне может быть такая ситуация, что в рамках id пользователь пытался совершить одно и тоже действие несколько раз в виду системной ошибки приложения. \n",
    "\n",
    "#### Если это баг то такие данные необходимо удалить, иначе результат исследования будет искажен. С другой стороны если удалить эти данные целиком мы также можем исказить выводы от эскпиремента, т.к. мы не фиксируем сам факт который все таки был. \n",
    "\n",
    "#### Быстрый виуальный анализ показывает, что задвоение происходит по всем 7 полям. Поэтому мы из задвоений по id оставим первую запись, остальные удалим"
   ]
  },
  {
   "cell_type": "code",
   "execution_count": 11,
   "metadata": {},
   "outputs": [],
   "source": [
    "# аналог row_number() из SQL\n",
    "df['id_indx'] = df.groupby(df.columns.tolist())['transaction_try'].rank(method='first')"
   ]
  },
  {
   "cell_type": "code",
   "execution_count": 12,
   "metadata": {},
   "outputs": [
    {
     "data": {
      "text/html": [
       "<div>\n",
       "<style scoped>\n",
       "    .dataframe tbody tr th:only-of-type {\n",
       "        vertical-align: middle;\n",
       "    }\n",
       "\n",
       "    .dataframe tbody tr th {\n",
       "        vertical-align: top;\n",
       "    }\n",
       "\n",
       "    .dataframe thead th {\n",
       "        text-align: right;\n",
       "    }\n",
       "</style>\n",
       "<table border=\"1\" class=\"dataframe\">\n",
       "  <thead>\n",
       "    <tr style=\"text-align: right;\">\n",
       "      <th></th>\n",
       "      <th>id</th>\n",
       "      <th>date</th>\n",
       "      <th>country</th>\n",
       "      <th>os</th>\n",
       "      <th>experiment_mobile_checkout_theme</th>\n",
       "      <th>transaction_try</th>\n",
       "      <th>transaction_success</th>\n",
       "      <th>id_indx</th>\n",
       "    </tr>\n",
       "  </thead>\n",
       "  <tbody>\n",
       "    <tr>\n",
       "      <th>20326</th>\n",
       "      <td>10171475</td>\n",
       "      <td>2020-04-28</td>\n",
       "      <td>USA</td>\n",
       "      <td>ios</td>\n",
       "      <td>mobile_checkout_theme_new</td>\n",
       "      <td>1</td>\n",
       "      <td>0</td>\n",
       "      <td>1.0</td>\n",
       "    </tr>\n",
       "    <tr>\n",
       "      <th>20327</th>\n",
       "      <td>10171475</td>\n",
       "      <td>2020-04-28</td>\n",
       "      <td>USA</td>\n",
       "      <td>ios</td>\n",
       "      <td>mobile_checkout_theme_new</td>\n",
       "      <td>1</td>\n",
       "      <td>0</td>\n",
       "      <td>2.0</td>\n",
       "    </tr>\n",
       "    <tr>\n",
       "      <th>20328</th>\n",
       "      <td>10171475</td>\n",
       "      <td>2020-04-28</td>\n",
       "      <td>USA</td>\n",
       "      <td>ios</td>\n",
       "      <td>mobile_checkout_theme_new</td>\n",
       "      <td>1</td>\n",
       "      <td>0</td>\n",
       "      <td>3.0</td>\n",
       "    </tr>\n",
       "  </tbody>\n",
       "</table>\n",
       "</div>"
      ],
      "text/plain": [
       "             id        date country   os experiment_mobile_checkout_theme  \\\n",
       "20326  10171475  2020-04-28     USA  ios        mobile_checkout_theme_new   \n",
       "20327  10171475  2020-04-28     USA  ios        mobile_checkout_theme_new   \n",
       "20328  10171475  2020-04-28     USA  ios        mobile_checkout_theme_new   \n",
       "\n",
       "       transaction_try  transaction_success  id_indx  \n",
       "20326                1                    0      1.0  \n",
       "20327                1                    0      2.0  \n",
       "20328                1                    0      3.0  "
      ]
     },
     "execution_count": 12,
     "metadata": {},
     "output_type": "execute_result"
    }
   ],
   "source": [
    "df[df.id==10171475]"
   ]
  },
  {
   "cell_type": "markdown",
   "metadata": {},
   "source": [
    "#### все что с индексом больше 1 удаляем"
   ]
  },
  {
   "cell_type": "code",
   "execution_count": 13,
   "metadata": {},
   "outputs": [],
   "source": [
    "df = df.drop(df.query(\"id_indx>1\").index)"
   ]
  },
  {
   "cell_type": "code",
   "execution_count": 14,
   "metadata": {},
   "outputs": [],
   "source": [
    "df.drop('id_indx',axis=1,inplace=True)"
   ]
  },
  {
   "cell_type": "code",
   "execution_count": 15,
   "metadata": {},
   "outputs": [
    {
     "data": {
      "text/html": [
       "<div>\n",
       "<style scoped>\n",
       "    .dataframe tbody tr th:only-of-type {\n",
       "        vertical-align: middle;\n",
       "    }\n",
       "\n",
       "    .dataframe tbody tr th {\n",
       "        vertical-align: top;\n",
       "    }\n",
       "\n",
       "    .dataframe thead th {\n",
       "        text-align: right;\n",
       "    }\n",
       "</style>\n",
       "<table border=\"1\" class=\"dataframe\">\n",
       "  <thead>\n",
       "    <tr style=\"text-align: right;\">\n",
       "      <th></th>\n",
       "      <th>id</th>\n",
       "      <th>date</th>\n",
       "      <th>country</th>\n",
       "      <th>os</th>\n",
       "      <th>experiment_mobile_checkout_theme</th>\n",
       "      <th>transaction_try</th>\n",
       "      <th>transaction_success</th>\n",
       "    </tr>\n",
       "  </thead>\n",
       "  <tbody>\n",
       "    <tr>\n",
       "      <th>20326</th>\n",
       "      <td>10171475</td>\n",
       "      <td>2020-04-28</td>\n",
       "      <td>USA</td>\n",
       "      <td>ios</td>\n",
       "      <td>mobile_checkout_theme_new</td>\n",
       "      <td>1</td>\n",
       "      <td>0</td>\n",
       "    </tr>\n",
       "  </tbody>\n",
       "</table>\n",
       "</div>"
      ],
      "text/plain": [
       "             id        date country   os experiment_mobile_checkout_theme  \\\n",
       "20326  10171475  2020-04-28     USA  ios        mobile_checkout_theme_new   \n",
       "\n",
       "       transaction_try  transaction_success  \n",
       "20326                1                    0  "
      ]
     },
     "execution_count": 15,
     "metadata": {},
     "output_type": "execute_result"
    }
   ],
   "source": [
    "df[df.id==10171475]"
   ]
  },
  {
   "cell_type": "markdown",
   "metadata": {},
   "source": [
    "#### Добавим новое поле \"group\" в котром будет 2 значения:\n",
    "- control - контрольная группа, если experiment_mobile_checkout_theme == \"mobile_checkout_theme_old\"\n",
    "- main - основная группа, если experiment_mobile_checkout_theme == \"mobile_checkout_theme_new\""
   ]
  },
  {
   "cell_type": "code",
   "execution_count": 16,
   "metadata": {},
   "outputs": [],
   "source": [
    "df['group'] = np.where(df['experiment_mobile_checkout_theme']== 'mobile_checkout_theme_old', 'control', 'main')"
   ]
  },
  {
   "cell_type": "code",
   "execution_count": 17,
   "metadata": {},
   "outputs": [
    {
     "data": {
      "text/html": [
       "<div>\n",
       "<style scoped>\n",
       "    .dataframe tbody tr th:only-of-type {\n",
       "        vertical-align: middle;\n",
       "    }\n",
       "\n",
       "    .dataframe tbody tr th {\n",
       "        vertical-align: top;\n",
       "    }\n",
       "\n",
       "    .dataframe thead th {\n",
       "        text-align: right;\n",
       "    }\n",
       "</style>\n",
       "<table border=\"1\" class=\"dataframe\">\n",
       "  <thead>\n",
       "    <tr style=\"text-align: right;\">\n",
       "      <th></th>\n",
       "      <th>id</th>\n",
       "      <th>date</th>\n",
       "      <th>country</th>\n",
       "      <th>os</th>\n",
       "      <th>experiment_mobile_checkout_theme</th>\n",
       "      <th>transaction_try</th>\n",
       "      <th>transaction_success</th>\n",
       "      <th>group</th>\n",
       "    </tr>\n",
       "  </thead>\n",
       "  <tbody>\n",
       "    <tr>\n",
       "      <th>0</th>\n",
       "      <td>10500155</td>\n",
       "      <td>2020-05-21</td>\n",
       "      <td>USA</td>\n",
       "      <td>android</td>\n",
       "      <td>mobile_checkout_theme_old</td>\n",
       "      <td>0</td>\n",
       "      <td>0</td>\n",
       "      <td>control</td>\n",
       "    </tr>\n",
       "    <tr>\n",
       "      <th>1</th>\n",
       "      <td>10500150</td>\n",
       "      <td>2020-05-21</td>\n",
       "      <td>USA</td>\n",
       "      <td>ios</td>\n",
       "      <td>mobile_checkout_theme_new</td>\n",
       "      <td>0</td>\n",
       "      <td>0</td>\n",
       "      <td>main</td>\n",
       "    </tr>\n",
       "    <tr>\n",
       "      <th>2</th>\n",
       "      <td>10500139</td>\n",
       "      <td>2020-05-21</td>\n",
       "      <td>USA</td>\n",
       "      <td>android</td>\n",
       "      <td>mobile_checkout_theme_new</td>\n",
       "      <td>0</td>\n",
       "      <td>0</td>\n",
       "      <td>main</td>\n",
       "    </tr>\n",
       "    <tr>\n",
       "      <th>3</th>\n",
       "      <td>10500135</td>\n",
       "      <td>2020-05-21</td>\n",
       "      <td>USA</td>\n",
       "      <td>ios</td>\n",
       "      <td>mobile_checkout_theme_new</td>\n",
       "      <td>0</td>\n",
       "      <td>0</td>\n",
       "      <td>main</td>\n",
       "    </tr>\n",
       "    <tr>\n",
       "      <th>4</th>\n",
       "      <td>10500134</td>\n",
       "      <td>2020-05-21</td>\n",
       "      <td>USA</td>\n",
       "      <td>android</td>\n",
       "      <td>mobile_checkout_theme_new</td>\n",
       "      <td>0</td>\n",
       "      <td>0</td>\n",
       "      <td>main</td>\n",
       "    </tr>\n",
       "  </tbody>\n",
       "</table>\n",
       "</div>"
      ],
      "text/plain": [
       "         id        date country       os experiment_mobile_checkout_theme  \\\n",
       "0  10500155  2020-05-21     USA  android        mobile_checkout_theme_old   \n",
       "1  10500150  2020-05-21     USA      ios        mobile_checkout_theme_new   \n",
       "2  10500139  2020-05-21     USA  android        mobile_checkout_theme_new   \n",
       "3  10500135  2020-05-21     USA      ios        mobile_checkout_theme_new   \n",
       "4  10500134  2020-05-21     USA  android        mobile_checkout_theme_new   \n",
       "\n",
       "   transaction_try  transaction_success    group  \n",
       "0                0                    0  control  \n",
       "1                0                    0     main  \n",
       "2                0                    0     main  \n",
       "3                0                    0     main  \n",
       "4                0                    0     main  "
      ]
     },
     "execution_count": 17,
     "metadata": {},
     "output_type": "execute_result"
    }
   ],
   "source": [
    "df.head()"
   ]
  },
  {
   "cell_type": "markdown",
   "metadata": {},
   "source": [
    "### 1 Определим есть ли статистически значимая разница между `transaction_try`  и `transaction_success`"
   ]
  },
  {
   "cell_type": "markdown",
   "metadata": {},
   "source": [
    "#### для этого разделим датасет на два отдельных датасета:\n",
    " -  df_try - целевое действие - `transaction_try`\n",
    " -  df_success - целевое действие - `transaction_success`"
   ]
  },
  {
   "cell_type": "code",
   "execution_count": 18,
   "metadata": {},
   "outputs": [],
   "source": [
    "df_try = df.drop(columns=['transaction_success'],axis=1)\n",
    "df_success  = df.drop(columns=['transaction_try'],axis=1)"
   ]
  },
  {
   "cell_type": "code",
   "execution_count": 19,
   "metadata": {},
   "outputs": [
    {
     "data": {
      "text/html": [
       "<div>\n",
       "<style scoped>\n",
       "    .dataframe tbody tr th:only-of-type {\n",
       "        vertical-align: middle;\n",
       "    }\n",
       "\n",
       "    .dataframe tbody tr th {\n",
       "        vertical-align: top;\n",
       "    }\n",
       "\n",
       "    .dataframe thead th {\n",
       "        text-align: right;\n",
       "    }\n",
       "</style>\n",
       "<table border=\"1\" class=\"dataframe\">\n",
       "  <thead>\n",
       "    <tr style=\"text-align: right;\">\n",
       "      <th>transaction_try</th>\n",
       "      <th>0</th>\n",
       "      <th>1</th>\n",
       "      <th>All</th>\n",
       "    </tr>\n",
       "    <tr>\n",
       "      <th>group</th>\n",
       "      <th></th>\n",
       "      <th></th>\n",
       "      <th></th>\n",
       "    </tr>\n",
       "  </thead>\n",
       "  <tbody>\n",
       "    <tr>\n",
       "      <th>control</th>\n",
       "      <td>10154</td>\n",
       "      <td>2760</td>\n",
       "      <td>12914</td>\n",
       "    </tr>\n",
       "    <tr>\n",
       "      <th>main</th>\n",
       "      <td>9932</td>\n",
       "      <td>2911</td>\n",
       "      <td>12843</td>\n",
       "    </tr>\n",
       "    <tr>\n",
       "      <th>All</th>\n",
       "      <td>20086</td>\n",
       "      <td>5671</td>\n",
       "      <td>25757</td>\n",
       "    </tr>\n",
       "  </tbody>\n",
       "</table>\n",
       "</div>"
      ],
      "text/plain": [
       "transaction_try      0     1    All\n",
       "group                              \n",
       "control          10154  2760  12914\n",
       "main              9932  2911  12843\n",
       "All              20086  5671  25757"
      ]
     },
     "execution_count": 19,
     "metadata": {},
     "output_type": "execute_result"
    }
   ],
   "source": [
    "# смотрим на общее распределение по \"transaction_try\" в разрезе \"group\"\n",
    "pd.crosstab(df_try['group'], df_try['transaction_try'],margins=True) "
   ]
  },
  {
   "cell_type": "code",
   "execution_count": 20,
   "metadata": {},
   "outputs": [
    {
     "data": {
      "text/html": [
       "<div>\n",
       "<style scoped>\n",
       "    .dataframe tbody tr th:only-of-type {\n",
       "        vertical-align: middle;\n",
       "    }\n",
       "\n",
       "    .dataframe tbody tr th {\n",
       "        vertical-align: top;\n",
       "    }\n",
       "\n",
       "    .dataframe thead th {\n",
       "        text-align: right;\n",
       "    }\n",
       "</style>\n",
       "<table border=\"1\" class=\"dataframe\">\n",
       "  <thead>\n",
       "    <tr style=\"text-align: right;\">\n",
       "      <th>transaction_success</th>\n",
       "      <th>0</th>\n",
       "      <th>1</th>\n",
       "      <th>All</th>\n",
       "    </tr>\n",
       "    <tr>\n",
       "      <th>group</th>\n",
       "      <th></th>\n",
       "      <th></th>\n",
       "      <th></th>\n",
       "    </tr>\n",
       "  </thead>\n",
       "  <tbody>\n",
       "    <tr>\n",
       "      <th>control</th>\n",
       "      <td>11544</td>\n",
       "      <td>1370</td>\n",
       "      <td>12914</td>\n",
       "    </tr>\n",
       "    <tr>\n",
       "      <th>main</th>\n",
       "      <td>11270</td>\n",
       "      <td>1573</td>\n",
       "      <td>12843</td>\n",
       "    </tr>\n",
       "    <tr>\n",
       "      <th>All</th>\n",
       "      <td>22814</td>\n",
       "      <td>2943</td>\n",
       "      <td>25757</td>\n",
       "    </tr>\n",
       "  </tbody>\n",
       "</table>\n",
       "</div>"
      ],
      "text/plain": [
       "transaction_success      0     1    All\n",
       "group                                  \n",
       "control              11544  1370  12914\n",
       "main                 11270  1573  12843\n",
       "All                  22814  2943  25757"
      ]
     },
     "execution_count": 20,
     "metadata": {},
     "output_type": "execute_result"
    }
   ],
   "source": [
    "# смотрим на общее распределение по \"transaction_try\" в разрезе \"group\"\n",
    "pd.crosstab(df_success['group'], df_success['transaction_success'],margins=True) "
   ]
  },
  {
   "cell_type": "markdown",
   "metadata": {},
   "source": [
    "#### 1.1 Проверим есть ли отличия конверсий в группах по целевому действию `transaction_try (попытка покупки) `"
   ]
  },
  {
   "cell_type": "code",
   "execution_count": 21,
   "metadata": {},
   "outputs": [],
   "source": [
    "resultsTrxTry = calcConvRate(df_try,'group','transaction_try')"
   ]
  },
  {
   "cell_type": "code",
   "execution_count": 22,
   "metadata": {},
   "outputs": [
    {
     "data": {
      "text/html": [
       "<style  type=\"text/css\" >\n",
       "</style><table id=\"T_53b34a2a_5b90_11ec_adde_d850e60a9893\" ><thead>    <tr>        <th class=\"blank level0\" ></th>        <th class=\"col_heading level0 col0\" >%conv_rate</th>        <th class=\"col_heading level0 col1\" >stdP</th>        <th class=\"col_heading level0 col2\" >seP</th>        <th class=\"col_heading level0 col3\" >total_cnt</th>        <th class=\"col_heading level0 col4\" >target_cnt</th>    </tr>    <tr>        <th class=\"index_name level0\" >group</th>        <th class=\"blank\" ></th>        <th class=\"blank\" ></th>        <th class=\"blank\" ></th>        <th class=\"blank\" ></th>        <th class=\"blank\" ></th>    </tr></thead><tbody>\n",
       "                <tr>\n",
       "                        <th id=\"T_53b34a2a_5b90_11ec_adde_d850e60a9893level0_row0\" class=\"row_heading level0 row0\" >control</th>\n",
       "                        <td id=\"T_53b34a2a_5b90_11ec_adde_d850e60a9893row0_col0\" class=\"data row0 col0\" >0.21372</td>\n",
       "                        <td id=\"T_53b34a2a_5b90_11ec_adde_d850e60a9893row0_col1\" class=\"data row0 col1\" >0.40993</td>\n",
       "                        <td id=\"T_53b34a2a_5b90_11ec_adde_d850e60a9893row0_col2\" class=\"data row0 col2\" >0.00361</td>\n",
       "                        <td id=\"T_53b34a2a_5b90_11ec_adde_d850e60a9893row0_col3\" class=\"data row0 col3\" >12914.00000</td>\n",
       "                        <td id=\"T_53b34a2a_5b90_11ec_adde_d850e60a9893row0_col4\" class=\"data row0 col4\" >2760.00000</td>\n",
       "            </tr>\n",
       "            <tr>\n",
       "                        <th id=\"T_53b34a2a_5b90_11ec_adde_d850e60a9893level0_row1\" class=\"row_heading level0 row1\" >main</th>\n",
       "                        <td id=\"T_53b34a2a_5b90_11ec_adde_d850e60a9893row1_col0\" class=\"data row1 col0\" >0.22666</td>\n",
       "                        <td id=\"T_53b34a2a_5b90_11ec_adde_d850e60a9893row1_col1\" class=\"data row1 col1\" >0.41867</td>\n",
       "                        <td id=\"T_53b34a2a_5b90_11ec_adde_d850e60a9893row1_col2\" class=\"data row1 col2\" >0.00369</td>\n",
       "                        <td id=\"T_53b34a2a_5b90_11ec_adde_d850e60a9893row1_col3\" class=\"data row1 col3\" >12843.00000</td>\n",
       "                        <td id=\"T_53b34a2a_5b90_11ec_adde_d850e60a9893row1_col4\" class=\"data row1 col4\" >2911.00000</td>\n",
       "            </tr>\n",
       "    </tbody></table>"
      ],
      "text/plain": [
       "<pandas.io.formats.style.Styler at 0x7f4005e28668>"
      ]
     },
     "execution_count": 22,
     "metadata": {},
     "output_type": "execute_result"
    }
   ],
   "source": [
    "resultsTrxTry"
   ]
  },
  {
   "cell_type": "markdown",
   "metadata": {},
   "source": [
    "#### Т.к. конверсия в основной группе (ОГ)  выше чем в контрольной группе (КГ), проверим является ли эта разница в пользу ОГ статистически значимой"
   ]
  },
  {
   "cell_type": "code",
   "execution_count": 23,
   "metadata": {},
   "outputs": [
    {
     "name": "stdout",
     "output_type": "stream",
     "text": [
      "z statistic: -2.5057\n",
      "p-value: 0.0122\n",
      "conf-interval 95% for control group: [0.2067, 0.2208]\n",
      "conf-interval 95% for main group: [0.2194, 0.2339]\n"
     ]
    }
   ],
   "source": [
    "checkByZtest(df_try,'group','transaction_try')"
   ]
  },
  {
   "cell_type": "markdown",
   "metadata": {},
   "source": [
    "#### Вывод 1.1 `transaction_try`:\n",
    "- конверсия в основной группе отличается от конверсии контрольной на +1,29%\n",
    "- разница между основной и контрольной группой статистически значима (p-value: 0.0122 и это < 0.05)"
   ]
  },
  {
   "cell_type": "markdown",
   "metadata": {},
   "source": [
    "#### 1.2 Проверим есть ли отличия конверсий в группах по целевому действию `transaction_success (успешная покупка) `"
   ]
  },
  {
   "cell_type": "code",
   "execution_count": 24,
   "metadata": {},
   "outputs": [],
   "source": [
    "resultTrxSuccess = calcConvRate(df_success,'group','transaction_success')"
   ]
  },
  {
   "cell_type": "code",
   "execution_count": 25,
   "metadata": {},
   "outputs": [
    {
     "data": {
      "text/html": [
       "<style  type=\"text/css\" >\n",
       "</style><table id=\"T_53b34a2b_5b90_11ec_adde_d850e60a9893\" ><thead>    <tr>        <th class=\"blank level0\" ></th>        <th class=\"col_heading level0 col0\" >%conv_rate</th>        <th class=\"col_heading level0 col1\" >stdP</th>        <th class=\"col_heading level0 col2\" >seP</th>        <th class=\"col_heading level0 col3\" >total_cnt</th>        <th class=\"col_heading level0 col4\" >target_cnt</th>    </tr>    <tr>        <th class=\"index_name level0\" >group</th>        <th class=\"blank\" ></th>        <th class=\"blank\" ></th>        <th class=\"blank\" ></th>        <th class=\"blank\" ></th>        <th class=\"blank\" ></th>    </tr></thead><tbody>\n",
       "                <tr>\n",
       "                        <th id=\"T_53b34a2b_5b90_11ec_adde_d850e60a9893level0_row0\" class=\"row_heading level0 row0\" >control</th>\n",
       "                        <td id=\"T_53b34a2b_5b90_11ec_adde_d850e60a9893row0_col0\" class=\"data row0 col0\" >0.10609</td>\n",
       "                        <td id=\"T_53b34a2b_5b90_11ec_adde_d850e60a9893row0_col1\" class=\"data row0 col1\" >0.30795</td>\n",
       "                        <td id=\"T_53b34a2b_5b90_11ec_adde_d850e60a9893row0_col2\" class=\"data row0 col2\" >0.00271</td>\n",
       "                        <td id=\"T_53b34a2b_5b90_11ec_adde_d850e60a9893row0_col3\" class=\"data row0 col3\" >12914.00000</td>\n",
       "                        <td id=\"T_53b34a2b_5b90_11ec_adde_d850e60a9893row0_col4\" class=\"data row0 col4\" >1370.00000</td>\n",
       "            </tr>\n",
       "            <tr>\n",
       "                        <th id=\"T_53b34a2b_5b90_11ec_adde_d850e60a9893level0_row1\" class=\"row_heading level0 row1\" >main</th>\n",
       "                        <td id=\"T_53b34a2b_5b90_11ec_adde_d850e60a9893row1_col0\" class=\"data row1 col0\" >0.12248</td>\n",
       "                        <td id=\"T_53b34a2b_5b90_11ec_adde_d850e60a9893row1_col1\" class=\"data row1 col1\" >0.32784</td>\n",
       "                        <td id=\"T_53b34a2b_5b90_11ec_adde_d850e60a9893row1_col2\" class=\"data row1 col2\" >0.00289</td>\n",
       "                        <td id=\"T_53b34a2b_5b90_11ec_adde_d850e60a9893row1_col3\" class=\"data row1 col3\" >12843.00000</td>\n",
       "                        <td id=\"T_53b34a2b_5b90_11ec_adde_d850e60a9893row1_col4\" class=\"data row1 col4\" >1573.00000</td>\n",
       "            </tr>\n",
       "    </tbody></table>"
      ],
      "text/plain": [
       "<pandas.io.formats.style.Styler at 0x7f405ffbc470>"
      ]
     },
     "execution_count": 25,
     "metadata": {},
     "output_type": "execute_result"
    }
   ],
   "source": [
    "resultTrxSuccess"
   ]
  },
  {
   "cell_type": "code",
   "execution_count": 26,
   "metadata": {},
   "outputs": [
    {
     "name": "stdout",
     "output_type": "stream",
     "text": [
      "z statistic: -4.1349\n",
      "p-value: 0.0000\n",
      "conf-interval 95% for control group: [0.1008, 0.1114]\n",
      "conf-interval 95% for main group: [0.1168, 0.1281]\n"
     ]
    }
   ],
   "source": [
    "checkByZtest(df_success,'group','transaction_success')"
   ]
  },
  {
   "cell_type": "markdown",
   "metadata": {},
   "source": [
    "#### Вывод 1.2 `transaction_success`:\n",
    "- конверсия в основной группе отличается от конверсии в контрольной на +1.64%\n",
    "- разница между основной и контрольной группой статистически значима (p-value: 0.0000 и это < 0.05)"
   ]
  },
  {
   "cell_type": "markdown",
   "metadata": {},
   "source": [
    "### 2 Определим есть ли статистически значимая разница между transaction_try и transaction_success в разрезе ОС"
   ]
  },
  {
   "cell_type": "markdown",
   "metadata": {},
   "source": [
    "####  отличия конверсий в группах по  `transaction_try -  Android`"
   ]
  },
  {
   "cell_type": "code",
   "execution_count": 27,
   "metadata": {},
   "outputs": [],
   "source": [
    "# попытки входа андроид\n",
    "dfTryAndroid = df_try[df_try.os=='android'] \n",
    "\n",
    "# конверсия попыток входа андроид\n",
    "resultsTrxTryAndroid = calcConvRate(dfTryAndroid,'group','transaction_try')"
   ]
  },
  {
   "cell_type": "code",
   "execution_count": 28,
   "metadata": {},
   "outputs": [
    {
     "data": {
      "text/html": [
       "<style  type=\"text/css\" >\n",
       "</style><table id=\"T_53b34a2c_5b90_11ec_adde_d850e60a9893\" ><thead>    <tr>        <th class=\"blank level0\" ></th>        <th class=\"col_heading level0 col0\" >%conv_rate</th>        <th class=\"col_heading level0 col1\" >stdP</th>        <th class=\"col_heading level0 col2\" >seP</th>        <th class=\"col_heading level0 col3\" >total_cnt</th>        <th class=\"col_heading level0 col4\" >target_cnt</th>    </tr>    <tr>        <th class=\"index_name level0\" >group</th>        <th class=\"blank\" ></th>        <th class=\"blank\" ></th>        <th class=\"blank\" ></th>        <th class=\"blank\" ></th>        <th class=\"blank\" ></th>    </tr></thead><tbody>\n",
       "                <tr>\n",
       "                        <th id=\"T_53b34a2c_5b90_11ec_adde_d850e60a9893level0_row0\" class=\"row_heading level0 row0\" >control</th>\n",
       "                        <td id=\"T_53b34a2c_5b90_11ec_adde_d850e60a9893row0_col0\" class=\"data row0 col0\" >0.19957</td>\n",
       "                        <td id=\"T_53b34a2c_5b90_11ec_adde_d850e60a9893row0_col1\" class=\"data row0 col1\" >0.39967</td>\n",
       "                        <td id=\"T_53b34a2c_5b90_11ec_adde_d850e60a9893row0_col2\" class=\"data row0 col2\" >0.00498</td>\n",
       "                        <td id=\"T_53b34a2c_5b90_11ec_adde_d850e60a9893row0_col3\" class=\"data row0 col3\" >6444.00000</td>\n",
       "                        <td id=\"T_53b34a2c_5b90_11ec_adde_d850e60a9893row0_col4\" class=\"data row0 col4\" >1286.00000</td>\n",
       "            </tr>\n",
       "            <tr>\n",
       "                        <th id=\"T_53b34a2c_5b90_11ec_adde_d850e60a9893level0_row1\" class=\"row_heading level0 row1\" >main</th>\n",
       "                        <td id=\"T_53b34a2c_5b90_11ec_adde_d850e60a9893row1_col0\" class=\"data row1 col0\" >0.20980</td>\n",
       "                        <td id=\"T_53b34a2c_5b90_11ec_adde_d850e60a9893row1_col1\" class=\"data row1 col1\" >0.40717</td>\n",
       "                        <td id=\"T_53b34a2c_5b90_11ec_adde_d850e60a9893row1_col2\" class=\"data row1 col2\" >0.00506</td>\n",
       "                        <td id=\"T_53b34a2c_5b90_11ec_adde_d850e60a9893row1_col3\" class=\"data row1 col3\" >6468.00000</td>\n",
       "                        <td id=\"T_53b34a2c_5b90_11ec_adde_d850e60a9893row1_col4\" class=\"data row1 col4\" >1357.00000</td>\n",
       "            </tr>\n",
       "    </tbody></table>"
      ],
      "text/plain": [
       "<pandas.io.formats.style.Styler at 0x7f40058e5e10>"
      ]
     },
     "execution_count": 28,
     "metadata": {},
     "output_type": "execute_result"
    }
   ],
   "source": [
    "resultsTrxTryAndroid"
   ]
  },
  {
   "cell_type": "markdown",
   "metadata": {},
   "source": [
    "#### статистическая значимость `transaction_try -  Android`"
   ]
  },
  {
   "cell_type": "code",
   "execution_count": 29,
   "metadata": {},
   "outputs": [
    {
     "name": "stdout",
     "output_type": "stream",
     "text": [
      "z statistic: -1.4415\n",
      "p-value: 0.1495\n",
      "conf-interval 95% for control group: [0.1898, 0.2093]\n",
      "conf-interval 95% for main group: [0.1999, 0.2197]\n"
     ]
    }
   ],
   "source": [
    "checkByZtest(dfTryAndroid,'group','transaction_try')"
   ]
  },
  {
   "cell_type": "markdown",
   "metadata": {},
   "source": [
    "####  отличия конверсий в группах по  `transaction_try -  ios`"
   ]
  },
  {
   "cell_type": "code",
   "execution_count": 30,
   "metadata": {},
   "outputs": [],
   "source": [
    "# попытка входа ios\n",
    "dfTryIOS = df_try[df_try.os=='ios'] # попытка входа ios\n",
    "\n",
    "# конверсия попытка входа ios\n",
    "resultsTrxTryIOS = calcConvRate(dfTryIOS,'group','transaction_try')"
   ]
  },
  {
   "cell_type": "code",
   "execution_count": 31,
   "metadata": {},
   "outputs": [
    {
     "data": {
      "text/html": [
       "<style  type=\"text/css\" >\n",
       "</style><table id=\"T_53b34a2d_5b90_11ec_adde_d850e60a9893\" ><thead>    <tr>        <th class=\"blank level0\" ></th>        <th class=\"col_heading level0 col0\" >%conv_rate</th>        <th class=\"col_heading level0 col1\" >stdP</th>        <th class=\"col_heading level0 col2\" >seP</th>        <th class=\"col_heading level0 col3\" >total_cnt</th>        <th class=\"col_heading level0 col4\" >target_cnt</th>    </tr>    <tr>        <th class=\"index_name level0\" >group</th>        <th class=\"blank\" ></th>        <th class=\"blank\" ></th>        <th class=\"blank\" ></th>        <th class=\"blank\" ></th>        <th class=\"blank\" ></th>    </tr></thead><tbody>\n",
       "                <tr>\n",
       "                        <th id=\"T_53b34a2d_5b90_11ec_adde_d850e60a9893level0_row0\" class=\"row_heading level0 row0\" >control</th>\n",
       "                        <td id=\"T_53b34a2d_5b90_11ec_adde_d850e60a9893row0_col0\" class=\"data row0 col0\" >0.22782</td>\n",
       "                        <td id=\"T_53b34a2d_5b90_11ec_adde_d850e60a9893row0_col1\" class=\"data row0 col1\" >0.41943</td>\n",
       "                        <td id=\"T_53b34a2d_5b90_11ec_adde_d850e60a9893row0_col2\" class=\"data row0 col2\" >0.00521</td>\n",
       "                        <td id=\"T_53b34a2d_5b90_11ec_adde_d850e60a9893row0_col3\" class=\"data row0 col3\" >6470.00000</td>\n",
       "                        <td id=\"T_53b34a2d_5b90_11ec_adde_d850e60a9893row0_col4\" class=\"data row0 col4\" >1474.00000</td>\n",
       "            </tr>\n",
       "            <tr>\n",
       "                        <th id=\"T_53b34a2d_5b90_11ec_adde_d850e60a9893level0_row1\" class=\"row_heading level0 row1\" >main</th>\n",
       "                        <td id=\"T_53b34a2d_5b90_11ec_adde_d850e60a9893row1_col0\" class=\"data row1 col0\" >0.24376</td>\n",
       "                        <td id=\"T_53b34a2d_5b90_11ec_adde_d850e60a9893row1_col1\" class=\"data row1 col1\" >0.42935</td>\n",
       "                        <td id=\"T_53b34a2d_5b90_11ec_adde_d850e60a9893row1_col2\" class=\"data row1 col2\" >0.00538</td>\n",
       "                        <td id=\"T_53b34a2d_5b90_11ec_adde_d850e60a9893row1_col3\" class=\"data row1 col3\" >6375.00000</td>\n",
       "                        <td id=\"T_53b34a2d_5b90_11ec_adde_d850e60a9893row1_col4\" class=\"data row1 col4\" >1554.00000</td>\n",
       "            </tr>\n",
       "    </tbody></table>"
      ],
      "text/plain": [
       "<pandas.io.formats.style.Styler at 0x7f40058ce8d0>"
      ]
     },
     "execution_count": 31,
     "metadata": {},
     "output_type": "execute_result"
    }
   ],
   "source": [
    "resultsTrxTryIOS"
   ]
  },
  {
   "cell_type": "markdown",
   "metadata": {},
   "source": [
    "#### статистическая значимость `transaction_try -  ios`"
   ]
  },
  {
   "cell_type": "code",
   "execution_count": 32,
   "metadata": {},
   "outputs": [
    {
     "name": "stdout",
     "output_type": "stream",
     "text": [
      "z statistic: -2.1286\n",
      "p-value: 0.0333\n",
      "conf-interval 95% for control group: [0.2176, 0.2380]\n",
      "conf-interval 95% for main group: [0.2332, 0.2543]\n"
     ]
    }
   ],
   "source": [
    "checkByZtest(dfTryIOS,'group','transaction_try')"
   ]
  },
  {
   "cell_type": "markdown",
   "metadata": {},
   "source": [
    "#### Вывод 2.1. :\n",
    "- transaction_try:\n",
    "    - android: конверсия в ОГ > КГ на +1,02% и это статистически незначимое отличие (p-value: 0.1495 и это > 0.05)\n",
    "    - ios:конверсия в ОГ > КГ на +1,59% и это статистически значимое отличие (p-value: 0.0333 и это < 0.05)"
   ]
  },
  {
   "cell_type": "markdown",
   "metadata": {},
   "source": [
    "####  отличия конверсий в группах по  `transaction_success -  Android`"
   ]
  },
  {
   "cell_type": "code",
   "execution_count": 33,
   "metadata": {},
   "outputs": [],
   "source": [
    "# успешная транзакция андроид\n",
    "dfTrxAndroid = df_success[df_success.os=='android'] # попытка входа ios\n",
    "\n",
    "# конверсия \n",
    "resultsTrxAndroid = calcConvRate(dfTrxAndroid,'group','transaction_success')"
   ]
  },
  {
   "cell_type": "code",
   "execution_count": 34,
   "metadata": {},
   "outputs": [
    {
     "data": {
      "text/html": [
       "<style  type=\"text/css\" >\n",
       "</style><table id=\"T_53b34a2e_5b90_11ec_adde_d850e60a9893\" ><thead>    <tr>        <th class=\"blank level0\" ></th>        <th class=\"col_heading level0 col0\" >%conv_rate</th>        <th class=\"col_heading level0 col1\" >stdP</th>        <th class=\"col_heading level0 col2\" >seP</th>        <th class=\"col_heading level0 col3\" >total_cnt</th>        <th class=\"col_heading level0 col4\" >target_cnt</th>    </tr>    <tr>        <th class=\"index_name level0\" >group</th>        <th class=\"blank\" ></th>        <th class=\"blank\" ></th>        <th class=\"blank\" ></th>        <th class=\"blank\" ></th>        <th class=\"blank\" ></th>    </tr></thead><tbody>\n",
       "                <tr>\n",
       "                        <th id=\"T_53b34a2e_5b90_11ec_adde_d850e60a9893level0_row0\" class=\"row_heading level0 row0\" >control</th>\n",
       "                        <td id=\"T_53b34a2e_5b90_11ec_adde_d850e60a9893row0_col0\" class=\"data row0 col0\" >0.08783</td>\n",
       "                        <td id=\"T_53b34a2e_5b90_11ec_adde_d850e60a9893row0_col1\" class=\"data row0 col1\" >0.28305</td>\n",
       "                        <td id=\"T_53b34a2e_5b90_11ec_adde_d850e60a9893row0_col2\" class=\"data row0 col2\" >0.00353</td>\n",
       "                        <td id=\"T_53b34a2e_5b90_11ec_adde_d850e60a9893row0_col3\" class=\"data row0 col3\" >6444.00000</td>\n",
       "                        <td id=\"T_53b34a2e_5b90_11ec_adde_d850e60a9893row0_col4\" class=\"data row0 col4\" >566.00000</td>\n",
       "            </tr>\n",
       "            <tr>\n",
       "                        <th id=\"T_53b34a2e_5b90_11ec_adde_d850e60a9893level0_row1\" class=\"row_heading level0 row1\" >main</th>\n",
       "                        <td id=\"T_53b34a2e_5b90_11ec_adde_d850e60a9893row1_col0\" class=\"data row1 col0\" >0.10250</td>\n",
       "                        <td id=\"T_53b34a2e_5b90_11ec_adde_d850e60a9893row1_col1\" class=\"data row1 col1\" >0.30331</td>\n",
       "                        <td id=\"T_53b34a2e_5b90_11ec_adde_d850e60a9893row1_col2\" class=\"data row1 col2\" >0.00377</td>\n",
       "                        <td id=\"T_53b34a2e_5b90_11ec_adde_d850e60a9893row1_col3\" class=\"data row1 col3\" >6468.00000</td>\n",
       "                        <td id=\"T_53b34a2e_5b90_11ec_adde_d850e60a9893row1_col4\" class=\"data row1 col4\" >663.00000</td>\n",
       "            </tr>\n",
       "    </tbody></table>"
      ],
      "text/plain": [
       "<pandas.io.formats.style.Styler at 0x7f40058cea90>"
      ]
     },
     "execution_count": 34,
     "metadata": {},
     "output_type": "execute_result"
    }
   ],
   "source": [
    "resultsTrxAndroid"
   ]
  },
  {
   "cell_type": "markdown",
   "metadata": {},
   "source": [
    "#### статистическая значимость `transaction_success -  android`"
   ]
  },
  {
   "cell_type": "code",
   "execution_count": 35,
   "metadata": {},
   "outputs": [
    {
     "name": "stdout",
     "output_type": "stream",
     "text": [
      "z statistic: -2.8403\n",
      "p-value: 0.0045\n",
      "conf-interval 95% for control group: [0.0809, 0.0947]\n",
      "conf-interval 95% for main group: [0.0951, 0.1099]\n"
     ]
    }
   ],
   "source": [
    "checkByZtest(dfTrxAndroid,'group','transaction_success')"
   ]
  },
  {
   "cell_type": "markdown",
   "metadata": {},
   "source": [
    "####  отличия конверсий в группах по  `transaction_success -  ios`"
   ]
  },
  {
   "cell_type": "code",
   "execution_count": 36,
   "metadata": {},
   "outputs": [],
   "source": [
    "# успешная транзакция андроид\n",
    "dfTrxIOS = df_success[df_success.os=='ios'] # попытка входа ios\n",
    "\n",
    "# конверсия\n",
    "resultsTrxIOS = calcConvRate(dfTrxIOS,'group','transaction_success')"
   ]
  },
  {
   "cell_type": "code",
   "execution_count": 37,
   "metadata": {},
   "outputs": [
    {
     "data": {
      "text/html": [
       "<style  type=\"text/css\" >\n",
       "</style><table id=\"T_545c95ee_5b90_11ec_adde_d850e60a9893\" ><thead>    <tr>        <th class=\"blank level0\" ></th>        <th class=\"col_heading level0 col0\" >%conv_rate</th>        <th class=\"col_heading level0 col1\" >stdP</th>        <th class=\"col_heading level0 col2\" >seP</th>        <th class=\"col_heading level0 col3\" >total_cnt</th>        <th class=\"col_heading level0 col4\" >target_cnt</th>    </tr>    <tr>        <th class=\"index_name level0\" >group</th>        <th class=\"blank\" ></th>        <th class=\"blank\" ></th>        <th class=\"blank\" ></th>        <th class=\"blank\" ></th>        <th class=\"blank\" ></th>    </tr></thead><tbody>\n",
       "                <tr>\n",
       "                        <th id=\"T_545c95ee_5b90_11ec_adde_d850e60a9893level0_row0\" class=\"row_heading level0 row0\" >control</th>\n",
       "                        <td id=\"T_545c95ee_5b90_11ec_adde_d850e60a9893row0_col0\" class=\"data row0 col0\" >0.12427</td>\n",
       "                        <td id=\"T_545c95ee_5b90_11ec_adde_d850e60a9893row0_col1\" class=\"data row0 col1\" >0.32988</td>\n",
       "                        <td id=\"T_545c95ee_5b90_11ec_adde_d850e60a9893row0_col2\" class=\"data row0 col2\" >0.00410</td>\n",
       "                        <td id=\"T_545c95ee_5b90_11ec_adde_d850e60a9893row0_col3\" class=\"data row0 col3\" >6470.00000</td>\n",
       "                        <td id=\"T_545c95ee_5b90_11ec_adde_d850e60a9893row0_col4\" class=\"data row0 col4\" >804.00000</td>\n",
       "            </tr>\n",
       "            <tr>\n",
       "                        <th id=\"T_545c95ee_5b90_11ec_adde_d850e60a9893level0_row1\" class=\"row_heading level0 row1\" >main</th>\n",
       "                        <td id=\"T_545c95ee_5b90_11ec_adde_d850e60a9893row1_col0\" class=\"data row1 col0\" >0.14275</td>\n",
       "                        <td id=\"T_545c95ee_5b90_11ec_adde_d850e60a9893row1_col1\" class=\"data row1 col1\" >0.34981</td>\n",
       "                        <td id=\"T_545c95ee_5b90_11ec_adde_d850e60a9893row1_col2\" class=\"data row1 col2\" >0.00438</td>\n",
       "                        <td id=\"T_545c95ee_5b90_11ec_adde_d850e60a9893row1_col3\" class=\"data row1 col3\" >6375.00000</td>\n",
       "                        <td id=\"T_545c95ee_5b90_11ec_adde_d850e60a9893row1_col4\" class=\"data row1 col4\" >910.00000</td>\n",
       "            </tr>\n",
       "    </tbody></table>"
      ],
      "text/plain": [
       "<pandas.io.formats.style.Styler at 0x7f40058ee358>"
      ]
     },
     "execution_count": 37,
     "metadata": {},
     "output_type": "execute_result"
    }
   ],
   "source": [
    "resultsTrxIOS"
   ]
  },
  {
   "cell_type": "markdown",
   "metadata": {},
   "source": [
    "#### статистическая значимость `transaction_success -  ios`"
   ]
  },
  {
   "cell_type": "code",
   "execution_count": 38,
   "metadata": {},
   "outputs": [
    {
     "name": "stdout",
     "output_type": "stream",
     "text": [
      "z statistic: -3.0794\n",
      "p-value: 0.0021\n",
      "conf-interval 95% for control group: [0.1162, 0.1323]\n",
      "conf-interval 95% for main group: [0.1342, 0.1513]\n"
     ]
    }
   ],
   "source": [
    "checkByZtest(dfTrxIOS,'group','transaction_success')"
   ]
  },
  {
   "cell_type": "markdown",
   "metadata": {},
   "source": [
    "#### Вывод 2.2 :\n",
    "- transaction_success:\n",
    "    - android: конверсия в ОГ > КГ на +1,47% и это статистически значимое отличие (p-value: 0.0045 и это < 0.05)\n",
    "    - ios:конверсия в ОГ > КГ на +1,85% и это статистически значимое отличие (p-value: 0.0021 и это < 0.05)"
   ]
  },
  {
   "cell_type": "markdown",
   "metadata": {},
   "source": [
    "### Проверим устойчивость эффекта во времени."
   ]
  },
  {
   "cell_type": "code",
   "execution_count": 39,
   "metadata": {},
   "outputs": [],
   "source": [
    "# делаем группировку по дате - ос - группе чтобы посчитать % конверсии в целевое состояние\n",
    "ndf = df.groupby(['date','os','group'],as_index=False).agg({     \n",
    "     'id':'count'\n",
    "    ,'transaction_try':'sum'\n",
    "    ,'transaction_success':'sum'\n",
    "})"
   ]
  },
  {
   "cell_type": "code",
   "execution_count": 40,
   "metadata": {},
   "outputs": [],
   "source": [
    "# считаем % конверсии где целевое состояние - transaction_try\n",
    "ndf['trxTry%'] = np.round( (ndf['transaction_try'] / ndf['id']),decimals=3)\n",
    "\n",
    "# считаем % конверсии где целевое состояние - transaction_success\n",
    "ndf['trxSuccess%'] = np.round( ndf['transaction_success'] / ndf['id'],decimals=3)\n",
    "\n",
    "# переименовываем поле\n",
    "ndf.rename(columns=({\n",
    "    'id':'totalCnt'\n",
    "}),inplace=True)"
   ]
  },
  {
   "cell_type": "code",
   "execution_count": 41,
   "metadata": {},
   "outputs": [],
   "source": [
    "ndf['date'] = pd.to_datetime(ndf.date)"
   ]
  },
  {
   "cell_type": "code",
   "execution_count": 42,
   "metadata": {},
   "outputs": [
    {
     "data": {
      "image/png": "[encoded data removed]",
      "text/plain": [
       "<Figure size 1080x360 with 1 Axes>"
      ]
     },
     "metadata": {
      "needs_background": "light"
     },
     "output_type": "display_data"
    }
   ],
   "source": [
    "runLinePlotByCats(ndf, ['group','os'],'trxSuccess%')"
   ]
  },
  {
   "cell_type": "code",
   "execution_count": 43,
   "metadata": {},
   "outputs": [
    {
     "data": {
      "image/png": "[encoded data removed]",
      "text/plain": [
       "<Figure size 1080x360 with 1 Axes>"
      ]
     },
     "metadata": {
      "needs_background": "light"
     },
     "output_type": "display_data"
    }
   ],
   "source": [
    "runLinePlotByCats(ndf, ['group','os'],'trxTry%')"
   ]
  },
  {
   "cell_type": "markdown",
   "metadata": {},
   "source": [
    "#### Вывод 1:\n",
    "- `transaction_try`:\n",
    "    - конверсия в основной группе отличается от конверсии контрольной на +1,29%\n",
    "    - разница между основной и контрольной группой статистически значима (p-value: 0.0122 и это < 0.05)\n",
    "- `transaction_success`:\n",
    "    - конверсия в основной группе отличается от конверсии в контрольной на +1.64%\n",
    "    - разница между основной и контрольной группой статистически значима (p-value: 0.0000 и это < 0.05)"
   ]
  },
  {
   "cell_type": "markdown",
   "metadata": {},
   "source": [
    "#### Вывод 2:\n",
    "- `transaction_try`:\n",
    "    - `android`: конверсия в ОГ > КГ на +1,02%, статистически незначимое отличие (p-value: 0.1495 и это > 0.05)\n",
    "    - `ios`:конверсия в ОГ > КГ на +1,59% и это статистически значимое отличие (p-value: 0.0333 и это < 0.05)\n",
    "\n",
    "- `transaction_success`:\n",
    "    - `android`: конверсия в ОГ > КГ на +1,47%, статистически значимое отличие (p-value: 0.0045 и это < 0.05)\n",
    "    - `ios`:конверсия в ОГ > КГ на +1,85%, статистически значимое отличие (p-value: 0.0021 и это < 0.05)"
   ]
  },
  {
   "cell_type": "markdown",
   "metadata": {},
   "source": [
    "#### Вывод 3:\n",
    "- `transaction_success`:\n",
    "    - на графике видно, что кривая ОГ почти всегда выше своих соперников как для android так и для ios.\n",
    "    Поэтому вывод о положительном отличии ОГ против КГ можно легко интерпретировать\n",
    "    \n",
    "- `transaction_try`:\n",
    "    - на данном же графике информация читается сложнее, и визуально сложно определитб какая группа лучше.\n",
    "    Для это и проводят статистические тесты.\n"
   ]
  },
  {
   "cell_type": "code",
   "execution_count": null,
   "metadata": {},
   "outputs": [],
   "source": []
  }
 ],
 "metadata": {
  "kernelspec": {
   "display_name": "Python 3",
   "language": "python",
   "name": "python3"
  },
  "language_info": {
   "codemirror_mode": {
    "name": "ipython",
    "version": 3
   },
   "file_extension": ".py",
   "mimetype": "text/x-python",
   "name": "python",
   "nbconvert_exporter": "python",
   "pygments_lexer": "ipython3",
   "version": "3.6.13"
  }
 },
 "nbformat": 4,
 "nbformat_minor": 2
}
